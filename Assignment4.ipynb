{
 "cells": [
  {
   "cell_type": "markdown",
   "metadata": {},
   "source": [
    "# Assignment 4\n",
    "\n",
    "Before working on this assignment please read these instructions fully. In the submission area, you will notice that you can click the link to **Preview the Grading** for each step of the assignment. This is the criteria that will be used for peer grading. Please familiarize yourself with the criteria before beginning the assignment.\n",
    "\n",
    "This assignment requires that you to find **at least** two datasets on the web which are related, and that you visualize these datasets to answer a question with the broad topic of **weather phenomena** (see below) for the region of **Stuttgart, Baden-Württemberg, Germany**, or **Germany** more broadly.\n",
    "\n",
    "You can merge these datasets with data from different regions if you like! For instance, you might want to compare **Stuttgart, Baden-Württemberg, Germany** to Ann Arbor, USA. In that case at least one source file must be about **Stuttgart, Baden-Württemberg, Germany**.\n",
    "\n",
    "You are welcome to choose datasets at your discretion, but keep in mind **they will be shared with your peers**, so choose appropriate datasets. Sensitive, confidential, illicit, and proprietary materials are not good choices for datasets for this assignment. You are welcome to upload datasets of your own as well, and link to them using a third party repository such as github, bitbucket, pastebin, etc. Please be aware of the Coursera terms of service with respect to intellectual property.\n",
    "\n",
    "Also, you are welcome to preserve data in its original language, but for the purposes of grading you should provide english translations. You are welcome to provide multiple visuals in different languages if you would like!\n",
    "\n",
    "As this assignment is for the whole course, you must incorporate principles discussed in the first week, such as having as high data-ink ratio (Tufte) and aligning with Cairo’s principles of truth, beauty, function, and insight.\n",
    "\n",
    "Here are the assignment instructions:\n",
    "\n",
    " * State the region and the domain category that your data sets are about (e.g., **Stuttgart, Baden-Württemberg, Germany** and **weather phenomena**).\n",
    " * You must state a question about the domain category and region that you identified as being interesting.\n",
    " * You must provide at least two links to available datasets. These could be links to files such as CSV or Excel files, or links to websites which might have data in tabular form, such as Wikipedia pages.\n",
    " * You must upload an image which addresses the research question you stated. In addition to addressing the question, this visual should follow Cairo's principles of truthfulness, functionality, beauty, and insightfulness.\n",
    " * You must contribute a short (1-2 paragraph) written justification of how your visualization addresses your stated research question.\n",
    "\n",
    "What do we mean by **weather phenomena**?  For this category you might want to consider seasonal changes, natural disasters, or historical trends.\n",
    "\n",
    "## Tips\n",
    "* Wikipedia is an excellent source of data, and I strongly encourage you to explore it for new data sources.\n",
    "* Many governments run open data initiatives at the city, region, and country levels, and these are wonderful resources for localized data sources.\n",
    "* Several international agencies, such as the [United Nations](http://data.un.org/), the [World Bank](http://data.worldbank.org/), the [Global Open Data Index](http://index.okfn.org/place/) are other great places to look for data.\n",
    "* This assignment requires you to convert and clean datafiles. Check out the discussion forums for tips on how to do this from various sources, and share your successes with your fellow students!\n",
    "\n",
    "## Example\n",
    "Looking for an example? Here's what our course assistant put together for the **Ann Arbor, MI, USA** area using **sports and athletics** as the topic. [Example Solution File](./readonly/Assignment4_example.pdf)"
   ]
  },
  {
   "cell_type": "code",
   "execution_count": 2,
   "metadata": {
    "collapsed": true
   },
   "outputs": [],
   "source": [
    "import pandas as pd\n",
    "import re"
   ]
  },
  {
   "cell_type": "code",
   "execution_count": 8,
   "metadata": {
    "collapsed": true
   },
   "outputs": [
    {
     "name": "stdout",
     "output_type": "stream",
     "text": [
      "<class 'pandas.core.frame.DataFrame'>\n",
      "RangeIndex: 365 entries, 0 to 364\n",
      "Data columns (total 10 columns):\n",
      " #   Column                Non-Null Count  Dtype  \n",
      "---  ------                --------------  -----  \n",
      " 0   Days                  365 non-null    object \n",
      " 1   Temperature [°C]      365 non-null    float64\n",
      " 2   Temperature max [°C]  365 non-null    float64\n",
      " 3   Temperature min [°C]  365 non-null    float64\n",
      " 4   Rainfall [mm]         365 non-null    float64\n",
      " 5   Month                 365 non-null    object \n",
      " 6   Temperature [°F]      365 non-null    float64\n",
      " 7   Temperature max [°F]  365 non-null    float64\n",
      " 8   Temperature min [°F]  365 non-null    float64\n",
      " 9   Rainfall [inch]       365 non-null    float64\n",
      "dtypes: float64(8), object(2)\n",
      "memory usage: 28.6+ KB\n"
     ]
    },
    {
     "name": "stderr",
     "output_type": "stream",
     "text": [
      "C:\\Users\\Pisztacia\\AppData\\Local\\Temp\\ipykernel_16232\\2328229640.py:11: FutureWarning: The default value of regex will change from True to False in a future version.\n",
      "  DE_ST['Rainfall [inch]'] = DE_ST['Rainfall [mm]'].str.split('|').str[1].str.replace('inch.','').astype(float)\n"
     ]
    }
   ],
   "source": [
    "srcDE_ST = pd.read_html('./DE_ST.html')\n",
    "DE_ST=pd.concat([*srcDE_ST]).reset_index(drop=True)\n",
    "DE_ST['Month'] = DE_ST['Unnamed: 0'].str.split(' ').str[1].astype(str)\n",
    "DE_ST = DE_ST.set_axis(['Days','Temperature [°C]','Temperature max [°C]','Temperature min [°C]', 'Rainfall [mm]','Month'], axis=1, inplace=False)\n",
    "DE_ST['Temperature [°C]'] = DE_ST['Temperature [°C]'].str.replace('Â','')\n",
    "DE_ST['Temperature max [°C]'] = DE_ST['Temperature max [°C]'].str.replace('Â','')\n",
    "DE_ST['Temperature min [°C]'] = DE_ST['Temperature min [°C]'].str.replace('Â','')\n",
    "DE_ST['Temperature [°F]'] = DE_ST['Temperature [°C]'].str.split('|').str[1].str.replace('°F','').astype(float)\n",
    "DE_ST['Temperature max [°F]'] = DE_ST['Temperature max [°C]'].str.split('|').str[1].str.replace('°F','').astype(float)\n",
    "DE_ST['Temperature min [°F]'] = DE_ST['Temperature min [°C]'].str.split('|').str[1].str.replace('°F','').astype(float)\n",
    "DE_ST['Rainfall [inch]'] = DE_ST['Rainfall [mm]'].str.split('|').str[1].str.replace('inch.','').astype(float)\n",
    "DE_ST['Temperature [°C]'] = DE_ST['Temperature [°C]'].str.split('|').str[0].str.replace('°C','').astype(float)\n",
    "DE_ST['Temperature max [°C]'] = DE_ST['Temperature max [°C]'].str.split('|').str[0].str.replace('°C','').astype(float)\n",
    "DE_ST['Temperature min [°C]'] = DE_ST['Temperature min [°C]'].str.split('|').str[0].str.replace('°C','').astype(float)\n",
    "DE_ST['Rainfall [mm]'] = DE_ST['Rainfall [mm]'].str.split('|').str[0].str.replace('mm','').astype(float)\n",
    "DE_ST.info()\n",
    "#to have some conflict"
   ]
  }
 ],
 "metadata": {
  "kernelspec": {
   "display_name": "Python 3",
   "language": "python",
   "name": "python3"
  },
  "language_info": {
   "codemirror_mode": {
    "name": "ipython",
    "version": 3
   },
   "file_extension": ".py",
   "mimetype": "text/x-python",
   "name": "python",
   "nbconvert_exporter": "python",
   "pygments_lexer": "ipython3",
   "version": "3.10.0"
  }
 },
 "nbformat": 4,
 "nbformat_minor": 1
}
